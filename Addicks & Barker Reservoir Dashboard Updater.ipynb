{
 "cells": [
  {
   "cell_type": "code",
   "execution_count": 1,
   "metadata": {
    "execution": {
     "iopub.execute_input": "2021-05-21T13:00:46.379709Z",
     "iopub.status.busy": "2021-05-21T13:00:46.378568Z",
     "iopub.status.idle": "2021-05-21T13:00:51.810098Z",
     "shell.execute_reply": "2021-05-21T13:00:51.808863Z"
    },
    "papermill": {
     "duration": 5.481238,
     "end_time": "2021-05-21T13:00:51.810465",
     "exception": false,
     "start_time": "2021-05-21T13:00:46.329227",
     "status": "completed"
    },
    "tags": []
   },
   "outputs": [],
   "source": [
    "from arcgis.gis import GIS\n",
    "import urllib.request, json, requests\n",
    "import pandas as pd"
   ]
  },
  {
   "cell_type": "code",
   "execution_count": 2,
   "metadata": {
    "execution": {
     "iopub.execute_input": "2021-05-21T13:00:51.895006Z",
     "iopub.status.busy": "2021-05-21T13:00:51.893891Z",
     "iopub.status.idle": "2021-05-21T13:00:52.165509Z",
     "shell.execute_reply": "2021-05-21T13:00:52.16704Z"
    },
    "papermill": {
     "duration": 0.323079,
     "end_time": "2021-05-21T13:00:52.167459",
     "exception": false,
     "start_time": "2021-05-21T13:00:51.84438",
     "status": "completed"
    },
    "tags": []
   },
   "outputs": [
    {
     "name": "stdout",
     "output_type": "stream",
     "text": [
      "Enter password: ········\n"
     ]
    }
   ],
   "source": [
    "gis = GIS(username='')"
   ]
  },
  {
   "cell_type": "code",
   "execution_count": 3,
   "metadata": {
    "execution": {
     "iopub.execute_input": "2021-05-21T13:00:52.245792Z",
     "iopub.status.busy": "2021-05-21T13:00:52.244796Z",
     "iopub.status.idle": "2021-05-21T13:00:53.098048Z",
     "shell.execute_reply": "2021-05-21T13:00:53.096984Z"
    },
    "papermill": {
     "duration": 0.900441,
     "end_time": "2021-05-21T13:00:53.098313",
     "exception": false,
     "start_time": "2021-05-21T13:00:52.197872",
     "status": "completed"
    },
    "tags": []
   },
   "outputs": [],
   "source": [
    "#connect to reservoir layer to update\n",
    "res_layer_item = gis.content.get('21a0345467e14ab5ab92c65c281565b1')\n",
    "res_layers = res_layer_item.layers\n",
    "res_fset=res_layers[0].query()\n",
    "res_features = res_fset.features\n",
    "res_flayer = res_layers[0]"
   ]
  },
  {
   "cell_type": "code",
   "execution_count": 21,
   "metadata": {
    "execution": {
     "iopub.execute_input": "2021-05-21T13:00:53.173429Z",
     "iopub.status.busy": "2021-05-21T13:00:53.172327Z",
     "iopub.status.idle": "2021-05-21T13:01:01.575859Z",
     "shell.execute_reply": "2021-05-21T13:01:01.575171Z"
    },
    "papermill": {
     "duration": 8.442986,
     "end_time": "2021-05-21T13:01:01.576031",
     "exception": false,
     "start_time": "2021-05-21T13:00:53.133045",
     "status": "completed"
    },
    "tags": []
   },
   "outputs": [],
   "source": [
    "#connect to water surface extents to update\n",
    "ext_layer_item = gis.content.get('a060446864bc44cca60f548cffd3f0ad')\n",
    "ext_layers = ext_layer_item.layers\n",
    "add_fset=ext_layers[1].query()\n",
    "add_features = add_fset.features\n",
    "add_flayer = ext_layers[1]\n",
    "bar_fset=ext_layers[0].query()\n",
    "bar_features = bar_fset.features\n",
    "bar_flayer = ext_layers[0]"
   ]
  },
  {
   "cell_type": "code",
   "execution_count": 22,
   "metadata": {
    "execution": {
     "iopub.execute_input": "2021-05-21T13:01:01.644488Z",
     "iopub.status.busy": "2021-05-21T13:01:01.643454Z",
     "iopub.status.idle": "2021-05-21T13:01:03.979114Z",
     "shell.execute_reply": "2021-05-21T13:01:03.97767Z"
    },
    "papermill": {
     "duration": 2.377922,
     "end_time": "2021-05-21T13:01:03.97928",
     "exception": false,
     "start_time": "2021-05-21T13:01:01.601358",
     "status": "completed"
    },
    "tags": []
   },
   "outputs": [],
   "source": [
    "#connect to USGS JSON service to pull data\n",
    "url = 'https://waterservices.usgs.gov/nwis/iv/?format=json&sites=08072500,08073000&parameterCd=00054,62615&siteStatus=all'\n",
    "with urllib.request.urlopen(url) as url:\n",
    "    data = json.loads(url.read().decode())\n",
    "url = 'https://waterservices.usgs.gov/nwis/iv/?format=json&sites=08073100,08072600&parameterCd=00060&siteStatus=all'\n",
    "with urllib.request.urlopen(url) as url:\n",
    "    data2 = json.loads(url.read().decode())"
   ]
  },
  {
   "cell_type": "code",
   "execution_count": 23,
   "metadata": {
    "execution": {
     "iopub.execute_input": "2021-05-21T13:01:04.051442Z",
     "iopub.status.busy": "2021-05-21T13:01:04.050787Z",
     "iopub.status.idle": "2021-05-21T13:01:04.053301Z",
     "shell.execute_reply": "2021-05-21T13:01:04.053775Z"
    },
    "papermill": {
     "duration": 0.046054,
     "end_time": "2021-05-21T13:01:04.053968",
     "exception": false,
     "start_time": "2021-05-21T13:01:04.007914",
     "status": "completed"
    },
    "tags": []
   },
   "outputs": [],
   "source": [
    "#shift all historical elevation values one cell to the right (stores last 24 hours of data very 15 minutes)\n",
    "#elevation24_4 takes the value of elevation24_3 and so on\n",
    "def shift_elevation_values():\n",
    "    for index, row in df.iterrows():\n",
    "        for i in reversed(range(1,25)):\n",
    "            for n in reversed(range(1,5)):\n",
    "                try:\n",
    "                    if i ==1 and n == 1:\n",
    "                        df.at[index,'elevation1_1'] = row['elevation']\n",
    "                    elif i !=1 and n == 1:\n",
    "                        df.at[index,'elevation'+str(i)+'_'+str(n)]= row['elevation'+str(i-1)+'_'+str(4)]\n",
    "                    else:\n",
    "                        df.at[index,'elevation'+str(i)+'_'+str(n)]= row['elevation'+str(i)+'_'+str(n-1)]\n",
    "                except:\n",
    "                    pass"
   ]
  },
  {
   "cell_type": "code",
   "execution_count": 24,
   "metadata": {
    "execution": {
     "iopub.execute_input": "2021-05-21T13:01:04.115808Z",
     "iopub.status.busy": "2021-05-21T13:01:04.114698Z",
     "iopub.status.idle": "2021-05-21T13:01:04.120472Z",
     "shell.execute_reply": "2021-05-21T13:01:04.119739Z"
    },
    "papermill": {
     "duration": 0.043527,
     "end_time": "2021-05-21T13:01:04.120637",
     "exception": false,
     "start_time": "2021-05-21T13:01:04.07711",
     "status": "completed"
    },
    "tags": []
   },
   "outputs": [],
   "source": [
    "#Get values out of the JSON pulled from USGS, 08072500 is Barker, 08072500 is Addicks\n",
    "def update_values_from_usgs():\n",
    "    df.at['08072500','storage'] = data['value']['timeSeries'][0]['values'][0]['value'][0]['value']\n",
    "    df.at['08072500','elevation']  = data['value']['timeSeries'][1]['values'][0]['value'][0]['value']\n",
    "    df.at['08073000','storage']  = data['value']['timeSeries'][2]['values'][0]['value'][0]['value']\n",
    "    df.at['08073000','elevation']  = data['value']['timeSeries'][3]['values'][0]['value'][0]['value']\n",
    "    df.at['08072500','flow']  = data2['value']['timeSeries'][0]['values'][0]['value'][0]['value']\n",
    "    df.at['08073000','flow']  = data2['value']['timeSeries'][1]['values'][0]['value'][0]['value']"
   ]
  },
  {
   "cell_type": "code",
   "execution_count": 25,
   "metadata": {
    "execution": {
     "iopub.execute_input": "2021-05-21T13:01:04.171178Z",
     "iopub.status.busy": "2021-05-21T13:01:04.17013Z",
     "iopub.status.idle": "2021-05-21T13:01:04.173029Z",
     "shell.execute_reply": "2021-05-21T13:01:04.173601Z"
    },
    "papermill": {
     "duration": 0.032317,
     "end_time": "2021-05-21T13:01:04.173815",
     "exception": false,
     "start_time": "2021-05-21T13:01:04.141498",
     "status": "completed"
    },
    "tags": []
   },
   "outputs": [],
   "source": [
    "#Calc the change in elevation in the last 15 minutes (last update)\n",
    "def calc_change_in_elev():\n",
    "    for index, row in df.iterrows():\n",
    "        df.at[index,'elevchange'] = row['elevation'] - row['elevation1_1'] "
   ]
  },
  {
   "cell_type": "code",
   "execution_count": 26,
   "metadata": {
    "execution": {
     "iopub.execute_input": "2021-05-21T13:01:04.223657Z",
     "iopub.status.busy": "2021-05-21T13:01:04.222998Z",
     "iopub.status.idle": "2021-05-21T13:01:04.226335Z",
     "shell.execute_reply": "2021-05-21T13:01:04.225644Z"
    },
    "papermill": {
     "duration": 0.031494,
     "end_time": "2021-05-21T13:01:04.22649",
     "exception": false,
     "start_time": "2021-05-21T13:01:04.194996",
     "status": "completed"
    },
    "tags": []
   },
   "outputs": [],
   "source": [
    "#Set the stage of the reservoirs depending on the elevations in their stage attributes\n",
    "def set_status():\n",
    "    for index, row in df.iterrows():\n",
    "        if row['elevation']>=row['stage1elev'] and row['elevation']<row['stage2elev']:\n",
    "            df.at[index,'stage'] = 'Stage 1'\n",
    "        elif row['elevation']>=row['stage2elev']:\n",
    "            df.at[index,'stage'] = 'Stage 2'\n",
    "        else:\n",
    "            df.at[index,'stage'] = 'Normal Stage'"
   ]
  },
  {
   "cell_type": "code",
   "execution_count": 27,
   "metadata": {
    "execution": {
     "iopub.execute_input": "2021-05-21T13:01:04.272883Z",
     "iopub.status.busy": "2021-05-21T13:01:04.272257Z",
     "iopub.status.idle": "2021-05-21T13:01:04.498256Z",
     "shell.execute_reply": "2021-05-21T13:01:04.498864Z"
    },
    "papermill": {
     "duration": 0.252704,
     "end_time": "2021-05-21T13:01:04.499111",
     "exception": false,
     "start_time": "2021-05-21T13:01:04.246407",
     "status": "completed"
    },
    "tags": []
   },
   "outputs": [],
   "source": [
    "#Create dataframe out of last updated AGOL reservoir layer.\n",
    "df = res_flayer.query().sdf\n",
    "df = df.set_index('usgsid')"
   ]
  },
  {
   "cell_type": "code",
   "execution_count": 28,
   "metadata": {
    "execution": {
     "iopub.execute_input": "2021-05-21T13:01:04.602193Z",
     "iopub.status.busy": "2021-05-21T13:01:04.572334Z",
     "iopub.status.idle": "2021-05-21T13:01:04.605441Z",
     "shell.execute_reply": "2021-05-21T13:01:04.60597Z"
    },
    "papermill": {
     "duration": 0.085565,
     "end_time": "2021-05-21T13:01:04.606196",
     "exception": false,
     "start_time": "2021-05-21T13:01:04.520631",
     "status": "completed"
    },
    "tags": []
   },
   "outputs": [],
   "source": [
    "#Go through columns and make sure they all are floats, else risks being integer and erroring out if a decimal gets placed in.\n",
    "for i in range(1,25):\n",
    "    for n in range(1,5):\n",
    "        df['elevation'+str(i)+'_'+str(n)] = pd.to_numeric(df['elevation'+str(i)+'_'+str(n)], downcast=\"float\")\n",
    "df[\"storage\"] = pd.to_numeric(df[\"storage\"], downcast=\"float\")\n",
    "df[\"elevation\"] = pd.to_numeric(df[\"elevation\"], downcast=\"float\")\n",
    "df[\"elevchange\"] = pd.to_numeric(df[\"elevchange\"], downcast=\"float\")\n",
    "df['flow'] = pd.to_numeric(df['flow'], downcast=\"float\")"
   ]
  },
  {
   "cell_type": "code",
   "execution_count": 29,
   "metadata": {
    "execution": {
     "iopub.execute_input": "2021-05-21T13:01:04.660692Z",
     "iopub.status.busy": "2021-05-21T13:01:04.660031Z",
     "iopub.status.idle": "2021-05-21T13:01:04.674501Z",
     "shell.execute_reply": "2021-05-21T13:01:04.67375Z"
    },
    "papermill": {
     "duration": 0.042631,
     "end_time": "2021-05-21T13:01:04.674654",
     "exception": false,
     "start_time": "2021-05-21T13:01:04.632023",
     "status": "completed"
    },
    "tags": []
   },
   "outputs": [],
   "source": [
    "#Run the functions and update values into the dataframe\n",
    "try:\n",
    "    shift_elevation_values()\n",
    "    update_values_from_usgs()\n",
    "    calc_change_in_elev()\n",
    "    set_status()\n",
    "    #trigger_emails()\n",
    "except Exception as e:\n",
    "    print(e)"
   ]
  },
  {
   "cell_type": "code",
   "execution_count": 30,
   "metadata": {
    "execution": {
     "iopub.execute_input": "2021-05-21T13:01:04.730213Z",
     "iopub.status.busy": "2021-05-21T13:01:04.729342Z",
     "iopub.status.idle": "2021-05-21T13:01:04.73201Z",
     "shell.execute_reply": "2021-05-21T13:01:04.732554Z"
    },
    "papermill": {
     "duration": 0.037336,
     "end_time": "2021-05-21T13:01:04.732741",
     "exception": false,
     "start_time": "2021-05-21T13:01:04.695405",
     "status": "completed"
    },
    "tags": []
   },
   "outputs": [],
   "source": [
    "#list of all columns in the dataframe to push to AGOL\n",
    "column_list_to_update = ['objectid','elevation','flow','elevchange','stage','storage','elevation1_1','elevation1_2','elevation1_3','elevation1_4','elevation2_1','elevation2_2','elevation2_3','elevation2_4','elevation3_1','elevation3_2','elevation3_3','elevation3_4','elevation4_1','elevation4_2','elevation4_3','elevation4_4','elevation5_1','elevation5_2','elevation5_3','elevation5_4','elevation6_1','elevation6_2','elevation6_3','elevation6_4','elevation7_1','elevation7_2','elevation7_3','elevation7_4','elevation8_1','elevation8_2','elevation8_3','elevation8_4','elevation9_1','elevation9_2','elevation9_3','elevation9_4','elevation10_1','elevation10_2','elevation10_3','elevation10_4','elevation11_1','elevation11_2','elevation11_3','elevation11_4','elevation12_1','elevation12_2','elevation12_3','elevation12_4','elevation13_1','elevation13_2','elevation13_3','elevation13_4','elevation14_1','elevation14_2','elevation14_3','elevation14_4','elevation15_1','elevation15_2','elevation15_3','elevation15_4','elevation16_1','elevation16_2','elevation16_3','elevation16_4','elevation17_1','elevation17_2','elevation17_3','elevation17_4','elevation18_1','elevation18_2','elevation18_3','elevation18_4','elevation19_1','elevation19_2','elevation19_3','elevation19_4','elevation20_1','elevation20_2','elevation20_3','elevation20_4','elevation21_1','elevation21_2','elevation21_3','elevation21_4','elevation22_1','elevation22_2','elevation22_3','elevation22_4','elevation23_1','elevation23_2','elevation23_3','elevation23_4','elevation24_1','elevation24_2','elevation24_3','elevation24_4']"
   ]
  },
  {
   "cell_type": "code",
   "execution_count": 31,
   "metadata": {
    "execution": {
     "iopub.execute_input": "2021-05-21T13:01:04.791419Z",
     "iopub.status.busy": "2021-05-21T13:01:04.7907Z",
     "iopub.status.idle": "2021-05-21T13:01:05.357202Z",
     "shell.execute_reply": "2021-05-21T13:01:05.356555Z"
    },
    "papermill": {
     "duration": 0.598409,
     "end_time": "2021-05-21T13:01:05.357358",
     "exception": false,
     "start_time": "2021-05-21T13:01:04.758949",
     "status": "completed"
    },
    "tags": []
   },
   "outputs": [
    {
     "name": "stdout",
     "output_type": "stream",
     "text": [
      "{'addResults': [], 'updateResults': [{'objectId': 1, 'uniqueId': 1, 'globalId': None, 'success': True}], 'deleteResults': []}\n",
      "{'addResults': [], 'updateResults': [{'objectId': 2, 'uniqueId': 2, 'globalId': None, 'success': True}], 'deleteResults': []}\n"
     ]
    }
   ],
   "source": [
    "#push updated dataframe to AGOL\n",
    "for index, row in df.iterrows():\n",
    "    attributes_dict = {}\n",
    "    for col in column_list_to_update:\n",
    "        attributes_dict[col]=row[col]\n",
    "    updates_to_push = {\"attributes\": attributes_dict}\n",
    "    update_result = res_flayer.edit_features(updates=[updates_to_push])\n",
    "    print(update_result)\n",
    "    "
   ]
  },
  {
   "cell_type": "code",
   "execution_count": 32,
   "metadata": {
    "execution": {
     "iopub.execute_input": "2021-05-21T13:01:05.418112Z",
     "iopub.status.busy": "2021-05-21T13:01:05.417376Z",
     "iopub.status.idle": "2021-05-21T13:01:06.079973Z",
     "shell.execute_reply": "2021-05-21T13:01:06.080699Z"
    },
    "papermill": {
     "duration": 0.698545,
     "end_time": "2021-05-21T13:01:06.080896",
     "exception": false,
     "start_time": "2021-05-21T13:01:05.382351",
     "status": "completed"
    },
    "tags": []
   },
   "outputs": [
    {
     "data": {
      "text/plain": [
       "{'success': True, 'updatedFeatureCount': 39}"
      ]
     },
     "execution_count": 32,
     "metadata": {},
     "output_type": "execute_result"
    }
   ],
   "source": [
    "#update the elevation in the water extent layer to show inundation footprint\n",
    "add_flayer.calculate(where=\"fid > 0\", calc_expression={\"field\": \"currentelevation\", \"value\" : int(df.at['08073000','elevation'])})\n",
    "bar_flayer.calculate(where=\"fid > 0\", calc_expression={\"field\": \"currentelevation\", \"value\" : int(df.at['08072500','elevation'])})"
   ]
  }
 ],
 "metadata": {
  "esriNotebookRuntime": {
   "notebookRuntimeName": "ArcGIS Notebook Python 3 Standard",
   "notebookRuntimeVersion": "5.0"
  },
  "kernelspec": {
   "display_name": "Python 3",
   "language": "python",
   "name": "python3"
  },
  "language_info": {
   "codemirror_mode": {
    "name": "ipython",
    "version": 3
   },
   "file_extension": ".py",
   "mimetype": "text/x-python",
   "name": "python",
   "nbconvert_exporter": "python",
   "pygments_lexer": "ipython3",
   "version": "3.7.4"
  },
  "papermill": {
   "default_parameters": {},
   "duration": 23.614241,
   "end_time": "2021-05-21T13:01:08.189962",
   "environment_variables": {},
   "exception": null,
   "input_path": "/arcgis/home/.tasks/50c4cc23a4034af288517cdf5a90c090/15eb9aaf53f642b9b6be69d80734097f.ipynb",
   "output_path": "/arcgis/home/.tasks/50c4cc23a4034af288517cdf5a90c090/output.ipynb",
   "parameters": {},
   "start_time": "2021-05-21T13:00:44.575721",
   "version": "2.2.0"
  }
 },
 "nbformat": 4,
 "nbformat_minor": 2
}
