{
 "cells": [
  {
   "cell_type": "code",
   "execution_count": 1,
   "metadata": {},
   "outputs": [
    {
     "name": "stderr",
     "output_type": "stream",
     "text": [
      "C:\\Anaconda3\\lib\\site-packages\\arcgis\\features\\_data\\geodataset\\utils.py:16: FutureWarning: The pandas.datetime class is deprecated and will be removed from pandas in a future version. Import from datetime module instead.\n",
      "  pd.datetime,\n"
     ]
    }
   ],
   "source": [
    "from datetime import datetime, timedelta\n",
    "from arcgis.gis import GIS\n",
    "import pandas as pd\n",
    "import numpy as np\n",
    "import time\n",
    "import xlwt\n",
    "from xlwt import Workbook"
   ]
  },
  {
   "cell_type": "code",
   "execution_count": 2,
   "metadata": {},
   "outputs": [],
   "source": [
    "from datetime import datetime, timedelta"
   ]
  },
  {
   "cell_type": "code",
   "execution_count": 3,
   "metadata": {},
   "outputs": [],
   "source": [
    "last_day = (datetime.today().replace(day=1) - timedelta(days=1))\n",
    "start_day = (datetime.today().replace(day=1) - timedelta(days=last_day.day))"
   ]
  },
  {
   "cell_type": "code",
   "execution_count": 4,
   "metadata": {},
   "outputs": [],
   "source": [
    "portals = {'Portal Name':[\"username\",\"password\"],'Portal 2 Name':[\"username\",\"password\"]}"
   ]
  },
  {
   "cell_type": "code",
   "execution_count": 5,
   "metadata": {},
   "outputs": [],
   "source": [
    "query_df=pd.DataFrame(columns = ['Entitlement','Total','Assigned','Remaining','AGOL'])\n",
    "cred_df=pd.DataFrame()"
   ]
  },
  {
   "cell_type": "code",
   "execution_count": 6,
   "metadata": {
    "scrolled": true
   },
   "outputs": [
    {
     "name": "stdout",
     "output_type": "stream",
     "text": [
      "Signing into Portal Name\n"
     ]
    },
    {
     "name": "stderr",
     "output_type": "stream",
     "text": [
      "Unable to generate token.\n",
      "Invalid username or password.\n"
     ]
    },
    {
     "name": "stdout",
     "output_type": "stream",
     "text": [
      "Unable to generate token.\n",
      "Invalid username or password.\n",
      "(Error Code: 400)\n",
      "Signing into Portal 2 Name\n"
     ]
    },
    {
     "name": "stderr",
     "output_type": "stream",
     "text": [
      "Unable to generate token.\n",
      "Invalid username or password.\n"
     ]
    },
    {
     "name": "stdout",
     "output_type": "stream",
     "text": [
      "Unable to generate token.\n",
      "Invalid username or password.\n",
      "(Error Code: 400)\n"
     ]
    },
    {
     "ename": "KeyError",
     "evalue": "\"None of ['AGOL'] are in the columns\"",
     "output_type": "error",
     "traceback": [
      "\u001b[1;31m---------------------------------------------------------------------------\u001b[0m",
      "\u001b[1;31mKeyError\u001b[0m                                  Traceback (most recent call last)",
      "\u001b[1;32m<ipython-input-6-81dd09167df5>\u001b[0m in \u001b[0;36m<module>\u001b[1;34m\u001b[0m\n\u001b[0;32m     26\u001b[0m \u001b[0mcred_df\u001b[0m\u001b[1;33m=\u001b[0m \u001b[0mcred_df\u001b[0m\u001b[1;33m.\u001b[0m\u001b[0mfillna\u001b[0m\u001b[1;33m(\u001b[0m\u001b[1;36m0\u001b[0m\u001b[1;33m)\u001b[0m\u001b[1;33m\u001b[0m\u001b[1;33m\u001b[0m\u001b[0m\n\u001b[0;32m     27\u001b[0m \u001b[0mcred_df\u001b[0m\u001b[1;33m=\u001b[0m\u001b[0mcred_df\u001b[0m\u001b[1;33m.\u001b[0m\u001b[0mloc\u001b[0m\u001b[1;33m[\u001b[0m\u001b[1;33m:\u001b[0m\u001b[1;33m,\u001b[0m \u001b[1;33m(\u001b[0m\u001b[0mcred_df\u001b[0m \u001b[1;33m!=\u001b[0m \u001b[1;36m0\u001b[0m\u001b[1;33m)\u001b[0m\u001b[1;33m.\u001b[0m\u001b[0many\u001b[0m\u001b[1;33m(\u001b[0m\u001b[0maxis\u001b[0m\u001b[1;33m=\u001b[0m\u001b[1;36m0\u001b[0m\u001b[1;33m)\u001b[0m\u001b[1;33m]\u001b[0m\u001b[1;33m\u001b[0m\u001b[1;33m\u001b[0m\u001b[0m\n\u001b[1;32m---> 28\u001b[1;33m \u001b[0mcred_df\u001b[0m\u001b[1;33m=\u001b[0m\u001b[0mcred_df\u001b[0m\u001b[1;33m.\u001b[0m\u001b[0mset_index\u001b[0m\u001b[1;33m(\u001b[0m\u001b[1;34m'AGOL'\u001b[0m\u001b[1;33m)\u001b[0m\u001b[1;33m\u001b[0m\u001b[1;33m\u001b[0m\u001b[0m\n\u001b[0m\u001b[0;32m     29\u001b[0m \u001b[0mportals_df\u001b[0m\u001b[1;33m=\u001b[0m\u001b[0mpd\u001b[0m\u001b[1;33m.\u001b[0m\u001b[0mconcat\u001b[0m\u001b[1;33m(\u001b[0m\u001b[1;33m[\u001b[0m\u001b[0mcred_df\u001b[0m\u001b[1;33m,\u001b[0m \u001b[0mportals_df\u001b[0m\u001b[1;33m]\u001b[0m\u001b[1;33m,\u001b[0m \u001b[0maxis\u001b[0m\u001b[1;33m=\u001b[0m\u001b[1;36m1\u001b[0m\u001b[1;33m)\u001b[0m\u001b[1;33m\u001b[0m\u001b[1;33m\u001b[0m\u001b[0m\n",
      "\u001b[1;32mC:\\Anaconda3\\lib\\site-packages\\pandas\\core\\frame.py\u001b[0m in \u001b[0;36mset_index\u001b[1;34m(self, keys, drop, append, inplace, verify_integrity)\u001b[0m\n\u001b[0;32m   4553\u001b[0m \u001b[1;33m\u001b[0m\u001b[0m\n\u001b[0;32m   4554\u001b[0m         \u001b[1;32mif\u001b[0m \u001b[0mmissing\u001b[0m\u001b[1;33m:\u001b[0m\u001b[1;33m\u001b[0m\u001b[1;33m\u001b[0m\u001b[0m\n\u001b[1;32m-> 4555\u001b[1;33m             \u001b[1;32mraise\u001b[0m \u001b[0mKeyError\u001b[0m\u001b[1;33m(\u001b[0m\u001b[1;34mf\"None of {missing} are in the columns\"\u001b[0m\u001b[1;33m)\u001b[0m\u001b[1;33m\u001b[0m\u001b[1;33m\u001b[0m\u001b[0m\n\u001b[0m\u001b[0;32m   4556\u001b[0m \u001b[1;33m\u001b[0m\u001b[0m\n\u001b[0;32m   4557\u001b[0m         \u001b[1;32mif\u001b[0m \u001b[0minplace\u001b[0m\u001b[1;33m:\u001b[0m\u001b[1;33m\u001b[0m\u001b[1;33m\u001b[0m\u001b[0m\n",
      "\u001b[1;31mKeyError\u001b[0m: \"None of ['AGOL'] are in the columns\""
     ]
    }
   ],
   "source": [
    "for key,value in portals.items():\n",
    "    try:\n",
    "        print('Signing into',key)\n",
    "        gis = GIS(username=value[0],password=value[1])\n",
    "        print('    Getting license data')\n",
    "        for i in gis.admin.license.all():\n",
    "            try:\n",
    "                print('       ',i)\n",
    "                t_df=i.report\n",
    "                t_df['AGOL']=key\n",
    "                query_df=query_df.append(t_df)\n",
    "            except:\n",
    "                pass\n",
    "        print('    Getting user count')\n",
    "        query_df = query_df.append({'AGOL':key,'Entitlement':'Creators','Assigned':len([acc for acc in gis.users.search(max_users=500) if acc.level == \"2\"])},ignore_index=True)\n",
    "        #query_df = query_df.append({'AGOL':key,'Entitlement':'CreditsTotal','Assigned':0},ignore_index=True)\n",
    "        print('    Pulling credit usage')\n",
    "        cred=gis.admin.credits.credit_usage(start_time=last_day,end_time=start_day)\n",
    "        cred['AGOL']=key\n",
    "        cred_df=cred_df.append(cred,ignore_index=True)\n",
    "    except Exception as e:\n",
    "        print(e)\n",
    "query_df['Entitlement'] = query_df['Entitlement'].str.rstrip('N')\n",
    "portals_df = query_df.pivot_table(index=\"AGOL\", columns=\"Entitlement\", values=\"Assigned\", aggfunc=np.sum)\n",
    "portals_df= portals_df.fillna(0)\n",
    "cred_df= cred_df.fillna(0)\n",
    "cred_df=cred_df.loc[:, (cred_df != 0).any(axis=0)]\n",
    "cred_df=cred_df.set_index('AGOL')\n",
    "portals_df=pd.concat([cred_df, portals_df], axis=1)"
   ]
  },
  {
   "cell_type": "code",
   "execution_count": null,
   "metadata": {},
   "outputs": [],
   "source": [
    "print('Writing results to XLS')\n",
    "wb = Workbook()\n",
    "xlwt.add_palette_colour(\"custom_gray\", 0x21)\n",
    "wb.set_colour_RGB(0x21, 251, 228, 228)\n",
    "xlwt.add_palette_colour(\"custom_tan\", 0x22)\n",
    "wb.set_colour_RGB(0x22, 204, 255, 153)\n",
    "for index,row in portals_df.iterrows():\n",
    "    a_count= row['notebooks']+row['schdnotebks']\n",
    "    s_count= row['features']+row['scene']+row['tiles']+row['vectortiles']+row['portal']\n",
    "    total_count= a_count+s_count\n",
    "    \n",
    "    \n",
    "    sheet = wb.add_sheet(index)\n",
    "    boldstyle = xlwt.easyxf('font: bold 1')\n",
    "    boldcenter = xlwt.easyxf('font: bold 1;align: wrap on, vert center, horiz center')\n",
    "    boldcentergray = xlwt.easyxf('font: bold 1;align: wrap on, vert center, horiz center;pattern: pattern solid, fore_colour custom_gray')\n",
    "    inputtan=xlwt.easyxf('align: wrap on, vert center, horiz center;pattern: pattern solid, fore_colour custom_tan')\n",
    "    #row,column\n",
    "    sheet.write(0, 0, 'Report Date', boldstyle)\n",
    "    sheet.write(0, 1, 'From:', boldstyle)\n",
    "    sheet.write(0, 2, start_day.strftime(\"%m/%d/%Y\"), inputtan)\n",
    "    sheet.write(0, 3, 'To:', boldstyle)\n",
    "    sheet.write(0, 4, last_day.strftime(\"%m/%d/%Y\"), inputtan)\n",
    "    sheet.write(2, 0, 'USACE-SWG')\n",
    "    sheet.write(2, 1, 'Rick Vera')\n",
    "    sheet.write(1, 0, 'Office Name', boldstyle)\n",
    "    sheet.write(1, 1, 'POC/Administrator', boldstyle)\n",
    "\n",
    "\n",
    "    sheet.write(1, 4, 'Members', boldcentergray)\n",
    "    sheet.write_merge(1, 1, 5, 9, 'Credits Consumed',boldcentergray)\n",
    "    sheet.write(2, 4, 'Creator Count', boldstyle)\n",
    "    sheet.write(3, 4, str(int(row['Creators'])), inputtan)\n",
    "    sheet.write(2, 5, 'Credits Total:', boldstyle)\n",
    "    sheet.write(3, 5, str(int(total_count)), inputtan)\n",
    "    sheet.write(2, 6, 'Storage:', boldstyle)\n",
    "    sheet.write(3, 6, str(int(s_count)), inputtan)\n",
    "    sheet.write(2, 7, 'Analytics:', boldstyle)\n",
    "    sheet.write(3, 7, str(int(a_count)), inputtan)\n",
    "    sheet.write(2, 8, 'Subscriber:', boldstyle)\n",
    "    sheet.write(3, 8, \"0\", inputtan)\n",
    "    sheet.write(2, 9, 'Published:', boldstyle)\n",
    "    sheet.write(3, 9, \"0\", inputtan)\n",
    "\n",
    "\n",
    "    sheet.write_merge(4, 4, 0, 2, 'Core Product Counts',boldcentergray)\n",
    "    sheet.write(5, 0, 'Pro Desktop Advanced',boldcenter)\n",
    "    sheet.write(6, 0, str(int(row['desktopAdv'])), inputtan)\n",
    "    sheet.write(5, 1, 'Pro Desktop Basic',boldcenter)\n",
    "    sheet.write(6, 1, str(int(row['desktopBasic'])), inputtan)\n",
    "    sheet.write(5, 2, 'Pro Desktop Standard',boldcenter)\n",
    "    sheet.write(6, 2, str(int(row['desktopStd'])), inputtan)\n",
    "    \n",
    "\n",
    "    sheet.write_merge(8, 8, 0, 11, 'Extension Counts:',boldcentergray)\n",
    "    sheet.write(9, 0, 'Pro 3D Analyst',boldcenter)\n",
    "    sheet.write(10, 0, str(int(row['3DAnalyst'])), inputtan)\n",
    "                                   \n",
    "    sheet.write(9, 1, 'Pro Aviation Airports',boldcenter)\n",
    "    sheet.write(10, 1, str(int(row['airports'])), inputtan)\n",
    "                                   \n",
    "    sheet.write(9, 2, 'Pro Data Reviewer',boldcenter)\n",
    "    sheet.write(10, 2, str(int(row['dataReviewer'])), inputtan)\n",
    "                                   \n",
    "    sheet.write(9, 3, 'Pro Defense Mapping',boldcenter)\n",
    "    sheet.write(10, 3, str(int(row['defense'])), inputtan)\n",
    "                                   \n",
    "    sheet.write(9, 4, 'Pro Geostatistical Analyst',boldcenter)\n",
    "    sheet.write(10, 4, str(int(row['geostatAnalyst'])), inputtan)\n",
    "                                   \n",
    "    sheet.write(9, 5, 'Pro Maritime Charting',boldcenter)\n",
    "    sheet.write(10, 5, str(int(row['maritime'])), inputtan)\n",
    "                                   \n",
    "    sheet.write(9, 6, 'Pro Image Analyst',boldcenter)\n",
    "    sheet.write(10, 6, \"0\", inputtan)\n",
    "                                   \n",
    "    sheet.write(9, 7, 'Pro Network Analyst',boldcenter)\n",
    "    sheet.write(10, 7, str(int(row['networkAnalyst'])), inputtan)\n",
    "                                   \n",
    "    sheet.write(9, 8, 'Pro Production Mapping',boldcenter)\n",
    "    sheet.write(10, 8, str(int(row['productionMap'])), inputtan)\n",
    "                                   \n",
    "    sheet.write(9, 9, 'Pro Publisher',boldcenter)\n",
    "    sheet.write(10, 9, str(int(row['publisher'])), inputtan)\n",
    "                                   \n",
    "    sheet.write(9, 10, 'Pro Spatial Analyst',boldcenter)\n",
    "    sheet.write(10, 10, str(int(row['spatialAnalyst'])), inputtan)\n",
    "                                    \n",
    "    sheet.write(9, 11, 'Pro Workflow Manager',boldcenter)\n",
    "    sheet.write(10, 11, str(int(row['workflowMgr'])), inputtan)\n",
    "\n",
    "    \n",
    "    \n",
    "    sheet.write_merge(12, 12, 0, 7, 'Add-On Products:',boldcentergray)\n",
    "    \n",
    "    sheet.write(13, 0, 'Insights',boldcenter)\n",
    "    try:\n",
    "        sheet.write(14, 0, str(int(row['insights'])), inputtan)\n",
    "    except:\n",
    "        sheet.write(14, 0, \"0\", inputtan)\n",
    "        \n",
    "        \n",
    "    sheet.write(13, 1, 'Business Analyst Online',boldcenter)\n",
    "    try:\n",
    "        sheet.write(14, 1, str(int(row['BusinessAnlyst'])), inputtan)\n",
    "    except:\n",
    "        sheet.write(14, 1, \"0\", inputtan)\n",
    "        \n",
    "        \n",
    "    sheet.write(13, 2, 'Navigator',boldcenter)\n",
    "    try:\n",
    "        sheet.write(14, 2, str(int(row['workflowMgr'])), inputtan)\n",
    "    except:\n",
    "        sheet.write(14, 2, \"0\", inputtan)\n",
    "        \n",
    "        \n",
    "    sheet.write(13, 3, 'Tracker',boldcenter)\n",
    "    try:\n",
    "        sheet.write(14, 3, str(int(row['workflowMgr'])), inputtan)\n",
    "    except:\n",
    "        sheet.write(14, 3, \"0\", inputtan)\n",
    "       \n",
    "    \n",
    "    sheet.write(13, 4, 'Community Analyst',boldcenter)\n",
    "    try:\n",
    "        sheet.write(14, 4, str(int(row['CommunityAnlyst'])), inputtan)\n",
    "    except:\n",
    "        sheet.write(14, 4, \"0\", inputtan)\n",
    "       \n",
    "    \n",
    "    sheet.write(13, 5, 'Drone2Map',boldcenter)\n",
    "    try:\n",
    "        sheet.write(14, 5, str(int(row['workflowMgr'])), inputtan)\n",
    "    except:\n",
    "        sheet.write(14, 5, \"0\", inputtan)\n",
    "        \n",
    "        \n",
    "    sheet.write(13, 6, 'ArcGIS Maps for Power BI',boldcenter)\n",
    "    try:\n",
    "        sheet.write(14, 6, str(int(row['workflowMgr'])), inputtan)\n",
    "    except:\n",
    "        sheet.write(14, 6, \"0\", inputtan)\n",
    "        \n",
    "        \n",
    "    sheet.write(13, 7, 'App Studio Standard',boldcenter)\n",
    "    try:\n",
    "        sheet.write(14, 7, str(int(row['appstudiostd'])), inputtan)\n",
    "    except:\n",
    "        sheet.write(14, 7, \"0\", inputtan)\n",
    "        \n",
    "    sheet.col(0).width = 4000\n",
    "    sheet.col(1).width = 4000\n",
    "    sheet.col(2).width = 4000\n",
    "    sheet.col(3).width = 4000\n",
    "    sheet.col(4).width = 4000\n",
    "    sheet.col(5).width = 4000\n",
    "    sheet.col(6).width = 4000\n",
    "    sheet.col(7).width = 4000\n",
    "    sheet.col(8).width = 4000\n",
    "    sheet.col(9).width = 4000\n",
    "    sheet.col(10).width = 4000\n",
    "    sheet.col(11).width = 4000\n",
    "    sheet.col(12).width = 4000\n"
   ]
  },
  {
   "cell_type": "code",
   "execution_count": null,
   "metadata": {},
   "outputs": [],
   "source": [
    "wb.save(\"sample.xls\")"
   ]
  },
  {
   "cell_type": "code",
   "execution_count": null,
   "metadata": {},
   "outputs": [],
   "source": []
  }
 ],
 "metadata": {
  "kernelspec": {
   "display_name": "Python 3",
   "language": "python",
   "name": "python3"
  },
  "language_info": {
   "codemirror_mode": {
    "name": "ipython",
    "version": 3
   },
   "file_extension": ".py",
   "mimetype": "text/x-python",
   "name": "python",
   "nbconvert_exporter": "python",
   "pygments_lexer": "ipython3",
   "version": "3.7.4"
  }
 },
 "nbformat": 4,
 "nbformat_minor": 2
}
