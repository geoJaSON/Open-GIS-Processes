{
 "cells": [
  {
   "cell_type": "code",
   "execution_count": 1,
   "metadata": {},
   "outputs": [],
   "source": [
    "import pandas as pd\n",
    "from arcgis.mapping import WebScene\n",
    "from arcgis.gis import GIS\n",
    "from arcgis.mapping import WebMap"
   ]
  },
  {
   "cell_type": "code",
   "execution_count": null,
   "metadata": {},
   "outputs": [],
   "source": [
    "csvsavepath = r'/arcgis/home/AGO_report.csv'\n",
    "gis = GIS(\"home\")"
   ]
  },
  {
   "cell_type": "code",
   "execution_count": 2,
   "metadata": {},
   "outputs": [],
   "source": [
    "df = pd.DataFrame(columns = ['Name', 'Owner','Summary','Description','Tags','Type','ItemID','Access','Size','Views_6M','View_2M','Views_1M','Web_Maps','Credit_Consumption','Credits']) "
   ]
  },
  {
   "cell_type": "code",
   "execution_count": 3,
   "metadata": {},
   "outputs": [],
   "source": [
    "df['Web_Maps']= df['Web_Maps'].astype(str)"
   ]
  },
  {
   "cell_type": "code",
   "execution_count": 4,
   "metadata": {},
   "outputs": [],
   "source": [
    "def credits(flt,size):\n",
    "    if flt == 'Feature Service':\n",
    "        usage = (size/10)*2.4\n",
    "    else:\n",
    "        usage = (size/1200)*1.2\n",
    "    return(usage)"
   ]
  },
  {
   "cell_type": "code",
   "execution_count": null,
   "metadata": {},
   "outputs": [],
   "source": [
    "%%capture\n",
    "from tqdm import tqdm_notebook as tqdm\n",
    "tqdm().pandas()"
   ]
  },
  {
   "cell_type": "code",
   "execution_count": null,
   "metadata": {},
   "outputs": [],
   "source": [
    "webmap_search = gis.content.search('',item_type=\"Web Map\",max_items=500)\n",
    "search_my_contents = gis.content.search('',max_items=5000)\n",
    "webscene_search = gis.content.search('',item_type=\"Web Scene\",max_items=500)"
   ]
  },
  {
   "cell_type": "code",
   "execution_count": null,
   "metadata": {},
   "outputs": [],
   "source": [
    "for item in tqdm(search_my_contents):\n",
    "    try:\n",
    "        returnlist = []\n",
    "        try:\n",
    "            view6=item.usage(\"6M\",as_df=True)['Usage'].sum()\n",
    "            view3=item.usage(\"60D\",as_df=True)['Usage'].sum()\n",
    "            view1=item.usage(\"30D\",as_df=True)['Usage'].sum()\n",
    "        except:\n",
    "            pass\n",
    "        cpm = credits(item.type, item.size*0.000001)\n",
    "\n",
    "        df=df.append({'Name':item.title, 'Owner':item.owner,'Description':item.description,'Tags':str(item.tags).strip(\"[\").strip(\"]\"),'Summary':item.snippet,'Type':item.type,'ItemID':item.id,'Access':item.access,'Web_Maps':'','Views_6M':view6,'View_2M':view3,'Views_1M':view1,'Size':item.size*0.000001,'Credits':item.accessInformation,'Credit_Consumption':cpm},ignore_index=True)\n",
    "    except:\n",
    "        pass"
   ]
  },
  {
   "cell_type": "code",
   "execution_count": null,
   "metadata": {},
   "outputs": [],
   "source": [
    "df = df.set_index('ItemID')"
   ]
  },
  {
   "cell_type": "code",
   "execution_count": null,
   "metadata": {},
   "outputs": [],
   "source": [
    "for nmap in tqdm(webmap_search):\n",
    "    try:\n",
    "        for layer in WebMap(nmap).layers:\n",
    "            try:\n",
    "                df.at[layer.itemId, 'Web_Maps'] = str(df.at[layer.itemId, 'Web_Maps'])+nmap.title+', '\n",
    "            except Exception as e:\n",
    "                pass\n",
    "    except:\n",
    "        pass"
   ]
  },
  {
   "cell_type": "code",
   "execution_count": null,
   "metadata": {},
   "outputs": [],
   "source": [
    "for nmap in tqdm(webscene_search):\n",
    "    for layer in WebScene(nmap)['operationalLayers']:\n",
    "        try:\n",
    "            df.at[layer['itemId'], 'Web_Maps'] = str(df.at[layer['itemId'], 'Web_Maps'])+nmap.title+', '\n",
    "        except:\n",
    "            pass"
   ]
  },
  {
   "cell_type": "code",
   "execution_count": null,
   "metadata": {},
   "outputs": [],
   "source": [
    "df.to_csv(csvsavepath)"
   ]
  }
 ],
 "metadata": {
  "esriNotebookRuntime": {
   "notebookRuntimeName": "ArcGIS Notebook Python 3 Standard",
   "notebookRuntimeVersion": "4.0"
  },
  "kernelspec": {
   "display_name": "Python 3",
   "language": "python",
   "name": "python3"
  },
  "language_info": {
   "codemirror_mode": {
    "name": "ipython",
    "version": 3
   },
   "file_extension": ".py",
   "mimetype": "text/x-python",
   "name": "python",
   "nbconvert_exporter": "python",
   "pygments_lexer": "ipython3",
   "version": "3.7.4"
  }
 },
 "nbformat": 4,
 "nbformat_minor": 2
}
